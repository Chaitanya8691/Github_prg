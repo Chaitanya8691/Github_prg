{
 "cells": [
  {
   "cell_type": "code",
   "execution_count": 1,
   "id": "1b26543d",
   "metadata": {
    "ExecuteTime": {
     "end_time": "2022-09-05T04:18:26.572462Z",
     "start_time": "2022-09-05T04:18:15.244040Z"
    }
   },
   "outputs": [],
   "source": [
    "import pandas as pd"
   ]
  }
 ],
 "metadata": {
  "_draft": {
   "nbviewer_url": "https://gist.github.com/617603e610d4333587c56e2a358a09e3"
  },
  "gist": {
   "data": {
    "description": "Github Prg.ipynb",
    "public": true
   },
   "id": "617603e610d4333587c56e2a358a09e3"
  },
  "kernelspec": {
   "display_name": "Python 3 (ipykernel)",
   "language": "python",
   "name": "python3"
  },
  "language_info": {
   "codemirror_mode": {
    "name": "ipython",
    "version": 3
   },
   "file_extension": ".py",
   "mimetype": "text/x-python",
   "name": "python",
   "nbconvert_exporter": "python",
   "pygments_lexer": "ipython3",
   "version": "3.9.12"
  }
 },
 "nbformat": 4,
 "nbformat_minor": 5
}
